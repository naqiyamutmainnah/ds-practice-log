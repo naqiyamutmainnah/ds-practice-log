{
  "cells": [
    {
      "cell_type": "markdown",
      "metadata": {
        "id": "d7fmcpx9U89S"
      },
      "source": [
        "Pada Tugas kali ini kita akan membuat 4 function yang memiliki fungsinya masing-masing.\n",
        "Data yang diambil berasal dari berkas imdb_movie.db\n",
        "\n",
        "Jika ada proses yang dilakukan boleh dilakukan dari query sql, atau menggunakan python setelah semua data ditampilkan menggunakan sql.\n",
        "\n",
        "disarankan untuk menggunakan metode groupby jika mengolah di dalam sql atau pandas.groupby jika pada fungsi pythonnya"
      ]
    },
    {
      "cell_type": "code",
      "execution_count": null,
      "metadata": {
        "id": "q9hkzIojU89e"
      },
      "outputs": [],
      "source": [
        "#Taruh semua library/package dsini\n",
        "import sqlite3 as sq\n",
        "import matplotlib.pyplot as plt\n",
        "import pandas as pd"
      ]
    },
    {
      "cell_type": "code",
      "execution_count": null,
      "metadata": {
        "id": "tPcd7-AxU89h"
      },
      "outputs": [],
      "source": [
        "#Pada sel ini peserta diminta untuk melakukan koneksi terhadap database.\n",
        "\n",
        "db = sq.connect('imdb_movie.db')"
      ]
    },
    {
      "cell_type": "markdown",
      "metadata": {
        "id": "qM2Zo-aXU89i"
      },
      "source": [
        "1. Peserta diminta untuk membuat sebuah fungsi yang tugasnya adalah untuk menampilkan 5 direktur dengan jumlah film terbanyak dalam daftar. Data tersebut akan menampilkan secara terurut dari urutan 1 (paling banyak) ke 5."
      ]
    },
    {
      "cell_type": "code",
      "execution_count": null,
      "metadata": {
        "id": "WqfiH-VIU89j"
      },
      "outputs": [],
      "source": [
        "def most_maker_director():\n",
        "  query = '''\n",
        "  SELECT director_name, COUNT(movie_title) AS number_of_movies\n",
        "  FROM movies\n",
        "  WHERE director_name IS NOT NULL\n",
        "  GROUP BY director_name\n",
        "  ORDER BY number_of_movies DESC\n",
        "  LIMIT 5;\n",
        "  '''\n",
        "\n",
        "  cursor_db = db.cursor()\n",
        "  cursor_db.execute(query)\n",
        "  result = cursor_db.fetchall()\n",
        "  cursor_db.close()\n",
        "  return result"
      ]
    },
    {
      "cell_type": "code",
      "source": [
        "most_maker_director()"
      ],
      "metadata": {
        "colab": {
          "base_uri": "https://localhost:8080/"
        },
        "id": "nhgOsERxbrGv",
        "outputId": "e9d47af0-9ca4-4ebc-e26c-38cc17b52a99"
      },
      "execution_count": null,
      "outputs": [
        {
          "output_type": "execute_result",
          "data": {
            "text/plain": [
              "[('Steven Spielberg', 26),\n",
              " ('Woody Allen', 22),\n",
              " ('Martin Scorsese', 20),\n",
              " ('Clint Eastwood', 20),\n",
              " ('Ridley Scott', 17)]"
            ]
          },
          "metadata": {},
          "execution_count": 32
        }
      ]
    },
    {
      "cell_type": "markdown",
      "metadata": {
        "id": "1QW-fCIVU89k"
      },
      "source": [
        "2. Peserta diminta untuk membuat sebuah fungsi yang tugasnya adalah untuk menampilkan 10 direktur dengan total jumlah pendapatan terbesar untuk semua film yang dia buat. Data tersebut akan menampilkan secara terurut dari urutan 1 (paling banyak) ke 10 beserta total pendapatan dari masing-masing direktur.\n",
        "\n",
        "Pendapatan bisa didapatkan dari nilai gross"
      ]
    },
    {
      "cell_type": "code",
      "execution_count": null,
      "metadata": {
        "id": "sN-iotaFU89l"
      },
      "outputs": [],
      "source": [
        "def most_profitable_director():\n",
        "  query = '''\n",
        "  SELECT director_name, SUM(gross) AS total_gross\n",
        "  FROM movies\n",
        "  GROUP BY director_name\n",
        "  ORDER BY total_gross DESC\n",
        "  LIMIT 10;\n",
        "  '''\n",
        "\n",
        "  cursor_db = db.cursor()\n",
        "  cursor_db.execute(query)\n",
        "  result = cursor_db.fetchall()\n",
        "  cursor_db.close()\n",
        "  return result"
      ]
    },
    {
      "cell_type": "code",
      "source": [
        "most_profitable_director()"
      ],
      "metadata": {
        "colab": {
          "base_uri": "https://localhost:8080/"
        },
        "id": "sFpHhOhIdl5R",
        "outputId": "70384904-aaef-4476-efc3-c715309976fc"
      },
      "execution_count": null,
      "outputs": [
        {
          "output_type": "execute_result",
          "data": {
            "text/plain": [
              "[('Steven Spielberg', 4114233101.0),\n",
              " ('Peter Jackson', 2592969279.0),\n",
              " ('Michael Bay', 2231242537.0),\n",
              " ('Tim Burton', 2071275480.0),\n",
              " ('Sam Raimi', 2049549198.0),\n",
              " ('James Cameron', 1948125910.0),\n",
              " ('Christopher Nolan', 1813227576.0),\n",
              " ('George Lucas', 1741418480.0),\n",
              " ('Joss Whedon', 1730886628.0),\n",
              " ('Robert Zemeckis', 1619309108.0)]"
            ]
          },
          "metadata": {},
          "execution_count": 11
        }
      ]
    },
    {
      "cell_type": "markdown",
      "metadata": {
        "id": "VFddoQ3CU89m"
      },
      "source": [
        "3. Peserta diminta untuk membuat sebuah fungsi yang tugasnya adalah untuk menampilkan 15 film dengan pendapatan terbesar. Data tersebut akan menampilkan secara terurut dari urutan 1 (paling banyak) ke 15 beserta pendapatan dari masing-masing film"
      ]
    },
    {
      "cell_type": "code",
      "execution_count": null,
      "metadata": {
        "id": "KIpKcghHU89n"
      },
      "outputs": [],
      "source": [
        "def most_profitable_movie():\n",
        "  query = '''\n",
        "  SELECT movie_title, gross\n",
        "  FROM movies\n",
        "  ORDER BY gross DESC\n",
        "  LIMIT 15;\n",
        "  '''\n",
        "  cursor_db = db.cursor()\n",
        "  cursor_db.execute(query)\n",
        "  result = cursor_db.fetchall()\n",
        "  cursor_db.close()\n",
        "  return result"
      ]
    },
    {
      "cell_type": "code",
      "source": [
        "most_profitable_movie()"
      ],
      "metadata": {
        "colab": {
          "base_uri": "https://localhost:8080/"
        },
        "id": "N4wnv2lXe0Vu",
        "outputId": "7405ebfc-471b-437e-9ee1-81a2a4034272"
      },
      "execution_count": null,
      "outputs": [
        {
          "output_type": "execute_result",
          "data": {
            "text/plain": [
              "[('Avatar�', 760505847.0),\n",
              " ('Titanic�', 658672302.0),\n",
              " ('Jurassic World�', 652177271.0),\n",
              " ('The Avengers�', 623279547.0),\n",
              " ('The Avengers�', 623279547.0),\n",
              " ('The Dark Knight�', 533316061.0),\n",
              " ('Star Wars: Episode I - The Phantom Menace�', 474544677.0),\n",
              " ('Star Wars: Episode IV - A New Hope�', 460935665.0),\n",
              " ('Avengers: Age of Ultron�', 458991599.0),\n",
              " ('The Dark Knight Rises�', 448130642.0),\n",
              " ('Shrek 2�', 436471036.0),\n",
              " ('E.T. the Extra-Terrestrial�', 434949459.0),\n",
              " ('The Hunger Games: Catching Fire�', 424645577.0),\n",
              " (\"Pirates of the Caribbean: Dead Man's Chest�\", 423032628.0),\n",
              " ('The Lion King�', 422783777.0)]"
            ]
          },
          "metadata": {},
          "execution_count": 14
        }
      ]
    },
    {
      "cell_type": "markdown",
      "metadata": {
        "id": "XfaSmqbIU89o"
      },
      "source": [
        "4. Peserta diminta untuk membuat sebuah fungsi yang tugasnya adalah untuk menampilkan plot distribusi budget dari semua film pada tahun yang ditentukan. fungsi ini memiliki input, yaitu adalah tahun."
      ]
    },
    {
      "cell_type": "code",
      "execution_count": null,
      "metadata": {
        "id": "YGnrhaELU89p"
      },
      "outputs": [],
      "source": [
        "def budget_distribution(year):\n",
        "  query = '''\n",
        "  SELECT budget\n",
        "  FROM movies\n",
        "  WHERE title_year = :year\n",
        "  AND budget IS NOT NULL\n",
        "  '''\n",
        "\n",
        "  cursor_db = db.cursor()\n",
        "  cursor_db.execute(query, (year,))\n",
        "  budgets = pd.DataFrame(cursor_db.fetchall(), columns=['budget'])\n",
        "  result = cursor_db.fetchall()\n",
        "\n",
        "  plt.figure(figsize=(8, 3))\n",
        "  plt.hist(budgets['budget'], bins=30, edgecolor='black')\n",
        "  plt.title(f'Budget movie year {year}')\n",
        "  plt.xlabel('Budget')\n",
        "  plt.ylabel('Count')\n",
        "  plt.grid(True)\n",
        "  plt.show()\n",
        "\n",
        "  cursor_db.close()\n",
        "\n",
        "  return result"
      ]
    },
    {
      "cell_type": "markdown",
      "metadata": {
        "id": "dvdT38j5U89q"
      },
      "source": [
        "Semua sel di bawah digunakan untuk pemanggilan fungsi dan menunjukan hasil yang diharapkan."
      ]
    },
    {
      "cell_type": "code",
      "execution_count": null,
      "metadata": {
        "id": "tVn0_noJU89s",
        "colab": {
          "base_uri": "https://localhost:8080/"
        },
        "outputId": "0462530d-b2b6-4820-aad2-1ff5d3c92a87"
      },
      "outputs": [
        {
          "output_type": "execute_result",
          "data": {
            "text/plain": [
              "[('Steven Spielberg', 26),\n",
              " ('Woody Allen', 22),\n",
              " ('Martin Scorsese', 20),\n",
              " ('Clint Eastwood', 20),\n",
              " ('Ridley Scott', 17)]"
            ]
          },
          "metadata": {},
          "execution_count": 33
        }
      ],
      "source": [
        "most_maker_director()"
      ]
    },
    {
      "cell_type": "markdown",
      "source": [
        "output\n",
        "\n",
        "1. Steven Spielberg\n",
        "2. Woody Allen\n",
        "3. Martin Scorsese\n",
        "4. Clint Eastwood\n",
        "5. Ridley Scott"
      ],
      "metadata": {
        "id": "LhMXW29AVKfK"
      }
    },
    {
      "cell_type": "code",
      "execution_count": null,
      "metadata": {
        "id": "B3anL97hU89t",
        "colab": {
          "base_uri": "https://localhost:8080/"
        },
        "outputId": "1bf20bba-4787-4dde-c1a7-862550af1d36"
      },
      "outputs": [
        {
          "output_type": "execute_result",
          "data": {
            "text/plain": [
              "[('Steven Spielberg', 4114233101.0),\n",
              " ('Peter Jackson', 2592969279.0),\n",
              " ('Michael Bay', 2231242537.0),\n",
              " ('Tim Burton', 2071275480.0),\n",
              " ('Sam Raimi', 2049549198.0),\n",
              " ('James Cameron', 1948125910.0),\n",
              " ('Christopher Nolan', 1813227576.0),\n",
              " ('George Lucas', 1741418480.0),\n",
              " ('Joss Whedon', 1730886628.0),\n",
              " ('Robert Zemeckis', 1619309108.0)]"
            ]
          },
          "metadata": {},
          "execution_count": 18
        }
      ],
      "source": [
        "most_profitable_director()"
      ]
    },
    {
      "cell_type": "markdown",
      "source": [
        "output\n",
        "\n",
        "1. Steven Spielberg - 4,114,233,101.00\n",
        "2. Peter Jackson - 2,592,969,279.00\n",
        "3. Michael Bay - 2,231,242,537.00\n",
        "4. Tim Burton - 2,071,275,480.00\n",
        "5. Sam Raimi - 2,049,549,198.00\n",
        "6. James Cameron - 1,948,125,910.00\n",
        "7. Christopher Nolan - 1,813,227,576.00\n",
        "8. George Lucas - 1,741,418,480.00\n",
        "9. Joss Whedon - 1,730,886,628.00\n",
        "10. Robert Zemeckis - 1,619,309,108.00"
      ],
      "metadata": {
        "id": "Y93CcGJnVO2C"
      }
    },
    {
      "cell_type": "code",
      "execution_count": null,
      "metadata": {
        "id": "JKDk88dJU89u",
        "colab": {
          "base_uri": "https://localhost:8080/"
        },
        "outputId": "da15a907-8123-40ac-953b-084fad491c96"
      },
      "outputs": [
        {
          "output_type": "execute_result",
          "data": {
            "text/plain": [
              "[('Avatar�', 760505847.0),\n",
              " ('Titanic�', 658672302.0),\n",
              " ('Jurassic World�', 652177271.0),\n",
              " ('The Avengers�', 623279547.0),\n",
              " ('The Avengers�', 623279547.0),\n",
              " ('The Dark Knight�', 533316061.0),\n",
              " ('Star Wars: Episode I - The Phantom Menace�', 474544677.0),\n",
              " ('Star Wars: Episode IV - A New Hope�', 460935665.0),\n",
              " ('Avengers: Age of Ultron�', 458991599.0),\n",
              " ('The Dark Knight Rises�', 448130642.0),\n",
              " ('Shrek 2�', 436471036.0),\n",
              " ('E.T. the Extra-Terrestrial�', 434949459.0),\n",
              " ('The Hunger Games: Catching Fire�', 424645577.0),\n",
              " (\"Pirates of the Caribbean: Dead Man's Chest�\", 423032628.0),\n",
              " ('The Lion King�', 422783777.0)]"
            ]
          },
          "metadata": {},
          "execution_count": 19
        }
      ],
      "source": [
        "most_profitable_movie()"
      ]
    },
    {
      "cell_type": "markdown",
      "source": [
        "output\n",
        "\n",
        "1. Avatar  (2009) - 760,505,847.00\n",
        "2. Titanic  (1997) - 658,672,302.00\n",
        "3. Jurassic World  (2015) - 652,177,271.00\n",
        "4. The Avengers  (2012) - 623,279,547.00\n",
        "5. The Dark Knight  (2008) - 533,316,061.00\n",
        "6. Star Wars: Episode I - The Phantom Menace  (1999) - 474,544,677.00\n",
        "7. Star Wars: Episode IV - A New Hope  (1977) - 460,935,665.00\n",
        "8. Avengers: Age of Ultron  (2015) - 458,991,599.00\n",
        "9. The Dark Knight Rises  (2012) - 448,130,642.00\n",
        "10. Shrek 2  (2004) - 436,471,036.00\n",
        "11. E.T. the Extra-Terrestrial  (1982) - 434,949,459.00\n",
        "12. The Hunger Games: Catching Fire  (2013) - 424,645,577.00\n",
        "13. Pirates of the Caribbean: Dead Man's Chest  (2006) - 423,032,628.00\n",
        "14. The Lion King  (1994) - 422,783,777.00\n",
        "15. Toy Story 3  (2010) - 414,984,497.00"
      ],
      "metadata": {
        "id": "Y6QX6DOMVYAT"
      }
    },
    {
      "cell_type": "code",
      "execution_count": null,
      "metadata": {
        "id": "lr_j1mn4U89v",
        "outputId": "13a020d6-6bbf-49c7-9262-c3317a08988b",
        "colab": {
          "base_uri": "https://localhost:8080/",
          "height": 350
        }
      },
      "outputs": [
        {
          "output_type": "display_data",
          "data": {
            "text/plain": [
              "<Figure size 800x300 with 1 Axes>"
            ],
            "image/png": "[encoded data removed]"
          },
          "metadata": {}
        },
        {
          "output_type": "execute_result",
          "data": {
            "text/plain": [
              "[]"
            ]
          },
          "metadata": {},
          "execution_count": 43
        }
      ],
      "source": [
        "year = 2001\n",
        "budget_distribution(2001)"
      ]
    }
  ],
  "metadata": {
    "interpreter": {
      "hash": "b02d93efda564da1915d42b0288c26f05ac833e7645184a564f32e638d57cc3e"
    },
    "kernelspec": {
      "display_name": "Python 3.8.6 64-bit ('public_op': virtualenv)",
      "language": "python",
      "name": "python3"
    },
    "language_info": {
      "codemirror_mode": {
        "name": "ipython",
        "version": 3
      },
      "file_extension": ".py",
      "mimetype": "text/x-python",
      "name": "python",
      "nbconvert_exporter": "python",
      "pygments_lexer": "ipython3",
      "version": "3.8.6"
    },
    "orig_nbformat": 4,
    "colab": {
      "provenance": []
    }
  },
  "nbformat": 4,
  "nbformat_minor": 0
}