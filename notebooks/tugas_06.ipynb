{
  "cells": [
    {
      "cell_type": "markdown",
      "metadata": {
        "id": "IE8a6SXLbYzl"
      },
      "source": [
        "# Statistika Inferential"
      ]
    },
    {
      "cell_type": "code",
      "execution_count": null,
      "metadata": {
        "id": "u6bx8Llrbhs8"
      },
      "outputs": [],
      "source": [
        "#Import semua library yang mungkin dibutuhkan\n",
        "import statistics\n",
        "import numpy as np\n",
        "\n",
        "#tabel nilai z_score\n",
        "z_table = {\n",
        "    -3.0: 0.0013, -2.9: 0.0019, -2.8: 0.0026, -2.7: 0.0035, -2.6: 0.0047,\n",
        "    -2.5: 0.0062, -2.4: 0.0082, -2.3: 0.0107, -2.2: 0.0139, -2.1: 0.0179,\n",
        "    -2.0: 0.0228, -1.9: 0.0287, -1.8: 0.0359, -1.7: 0.0446, -1.6: 0.0548,\n",
        "    -1.5: 0.0668, -1.4: 0.0808, -1.3: 0.0968, -1.2: 0.1151, -1.1: 0.1357,\n",
        "    -1.0: 0.1587, -0.9: 0.1841, -0.8: 0.2119, -0.7: 0.2420, -0.6: 0.2743,\n",
        "    -0.5: 0.3085, -0.4: 0.3446, -0.3: 0.3821, -0.2: 0.4207, -0.1: 0.4602,\n",
        "     0.0: 0.5000,  0.1: 0.5398,  0.2: 0.5793,  0.3: 0.6179,  0.4: 0.6554,\n",
        "     0.5: 0.6915,  0.6: 0.7257,  0.7: 0.7580,  0.8: 0.7881,  0.9: 0.8159,\n",
        "     1.0: 0.8413,  1.1: 0.8643,  1.2: 0.8849,  1.3: 0.9032,  1.4: 0.9192,\n",
        "     1.5: 0.9332,  1.6: 0.9452,  1.7: 0.9554,  1.8: 0.9641,  1.9: 0.9713,\n",
        "     2.0: 0.9772,  2.1: 0.9821,  2.2: 0.9861,  2.3: 0.9893,  2.4: 0.9918,\n",
        "     2.5: 0.9938,  2.6: 0.9953,  2.7: 0.9965,  2.8: 0.9974,  2.9: 0.9981,\n",
        "     3.0: 0.9987\n",
        "}"
      ]
    },
    {
      "cell_type": "markdown",
      "metadata": {
        "id": "EAqqZ4yrboOn"
      },
      "source": [
        "## Soal 1. Probabilitas\n",
        "\n",
        "\n",
        "\n",
        "Sebuah perusahaan mengklaim bahwa mesin produksi mereka menghasilkan botol dengan volume rata-rata 500 ml dan standar deviasi 25 ml. Seorang inspektur ingin menguji apakah klaim tersebut benar dengan mengambil sampel acak dari 100 botol. Dari sampel tersebut, inspektur menemukan bahwa rata-rata volume botol adalah 495 ml. Hitunglah probabilitas bahwa rata-rata volume botol dalam sampel sebesar 495 ml atau kurang, berdasarkan klaim perusahaan.\n",
        "\n"
      ]
    },
    {
      "cell_type": "code",
      "execution_count": null,
      "metadata": {
        "id": "KxxIPZ1jb7xR",
        "colab": {
          "base_uri": "https://localhost:8080/"
        },
        "outputId": "182fdda5-e1b9-4bca-f450-26ae637c4976"
      },
      "outputs": [
        {
          "output_type": "stream",
          "name": "stdout",
          "text": [
            "Z-score: -2.0\n",
            "Probabilitas bahwa rata-rata volume botol dalam sampel sebesar 495 ml atau kurang adalah 0.0228\n"
          ]
        }
      ],
      "source": [
        "mean = 500\n",
        "std_dev = 25\n",
        "ukuran_sampel = 100\n",
        "mean_sampel = 495\n",
        "\n",
        "def cal_standard_error(std_dev, ukuran_sampel):\n",
        "    return std_dev / (ukuran_sampel ** 0.5)\n",
        "\n",
        "def cal_z_score(sample_mean, population_mean, std_error):\n",
        "    return (sample_mean - population_mean) / std_error\n",
        "\n",
        "std_error_mean = cal_standard_error(std_dev, ukuran_sampel)\n",
        "\n",
        "# hitung nilai z\n",
        "z_score = cal_z_score(mean_sampel, mean, std_error_mean)\n",
        "\n",
        "p_value = z_table[round(z_score, 1)]\n",
        "print(f\"Z-score: {z_score}\")\n",
        "print(f\"Probabilitas bahwa rata-rata volume botol dalam sampel sebesar {mean_sampel} ml atau kurang adalah {p_value:.4f}\")"
      ]
    },
    {
      "cell_type": "markdown",
      "metadata": {
        "id": "zamDw5bIbXin"
      },
      "source": [
        "Expected output:\n",
        "\n",
        "\n",
        "```\n",
        "Probabilitas bahwa rata-rata volume botol dalam sampel sebesar 495 ml atau kurang adalah 0.0228\n",
        "```"
      ]
    },
    {
      "cell_type": "markdown",
      "metadata": {
        "id": "lbGK0ue5y76R"
      },
      "source": [
        "---"
      ]
    },
    {
      "cell_type": "markdown",
      "metadata": {
        "id": "WfDPupq6dxAT"
      },
      "source": [
        "## Soal 2. Menghitung Interval Kepercayaan\n",
        "\n",
        "\n",
        "\n",
        "Sebuah penelitian dilakukan untuk mengukur rata-rata berat badan dari sebuah populasi ikan di sebuah danau. Dari sampel acak sebanyak 50 ikan, rata-rata berat badan yang ditemukan adalah 2.5 kg dengan standar deviasi 0.4 kg. Hitunglah rata-rata berat badan ikan di danau tersebut dengan interval kepercayaan 95%."
      ]
    },
    {
      "cell_type": "code",
      "execution_count": null,
      "metadata": {
        "id": "RY8LfslonVMq",
        "colab": {
          "base_uri": "https://localhost:8080/"
        },
        "outputId": "33424629-727c-4fd7-e614-bc5db988b9c5"
      },
      "outputs": [
        {
          "output_type": "stream",
          "name": "stdout",
          "text": [
            "Rata-rata berat badan ikan di danau tersebut dengan interval kepercayaan 95% adalah (2.389, 2.611)\n"
          ]
        }
      ],
      "source": [
        "def calculate_confidance_interval(sample_mean, std_dev, n, z_score):\n",
        "  margin_error = z_score * (std_dev/np.sqrt(n))\n",
        "  lower_bound = sample_mean - margin_error\n",
        "  upper_bound = sample_mean + margin_error\n",
        "  return lower_bound, upper_bound\n",
        "\n",
        "sample_mean = 2.5\n",
        "std_dev = 0.4\n",
        "n = 50\n",
        "z_score = 1.96\n",
        "\n",
        "lower_bound, upper_bound = calculate_confidance_interval(sample_mean, std_dev, n, z_score)\n",
        "print(f\"Rata-rata berat badan ikan di danau tersebut dengan interval kepercayaan 95% adalah ({lower_bound:.3f}, {upper_bound:.3f})\")"
      ]
    },
    {
      "cell_type": "markdown",
      "metadata": {
        "id": "vd0o3W3_nUHe"
      },
      "source": [
        "Expected output:\n",
        "\n",
        "\n",
        "```\n",
        "Rata-rata berat badan ikan di danau tersebut dengan interval kepercayaan 95% adalah (2.389, 2.611)\n",
        "```\n",
        "\n"
      ]
    },
    {
      "cell_type": "markdown",
      "metadata": {
        "id": "G0beaH44fwkz"
      },
      "source": [
        "\n",
        "\n",
        "---\n",
        "\n",
        "\n",
        "\n",
        "---\n",
        "\n"
      ]
    },
    {
      "cell_type": "markdown",
      "metadata": {
        "id": "V1ZGmVi9feXa"
      },
      "source": [
        "## Soal 3. Anova\n",
        "\n",
        "Anda diberikan data dari empat kelompok berbeda yang mewakili hasil eksperimen pada empat kondisi yang berbeda:\n",
        "\n",
        "*    group1 = [15, 18, 21, 19, 20, 22]\n",
        "*    group2 = [25, 28, 30, 27, 26, 29]\n",
        "*    group3 = [35, 38, 37, 36, 34, 39]\n",
        "*    group4 = [45, 48, 46, 47, 44, 49]\n",
        "\n",
        "\n",
        "Buatlah sebuah fungsi Python yang melakukan uji ANOVA satu arah untuk menguji apakah terdapat perbedaan signifikan di antara keempat kelompok tersebut pada tingkat signifikansi 0.05. Tampilkan nilai F, nilai kritis, dan kesimpulan uji."
      ]
    },
    {
      "cell_type": "code",
      "execution_count": null,
      "metadata": {
        "id": "_eflvygLfdbS",
        "colab": {
          "base_uri": "https://localhost:8080/"
        },
        "outputId": "3f166abc-3a0b-4b54-f6ee-6d08c312bc78"
      },
      "outputs": [
        {
          "output_type": "stream",
          "name": "stdout",
          "text": [
            "Nilai F: 199.0800000000\n",
            "Derajat kebebasan antar kelompok: 3\n",
            "Derajat kebebasan dalam kelompok: 20\n",
            "Nilai F kritikal: 3.555\n",
            "Kesimpulan: Terdapat perbedaan signifikan di antara kelompok\n"
          ]
        }
      ],
      "source": [
        "# F - ratio = varian antar grup/varian dalam grup\n",
        "# f-ratio = akar rataan diantara/akar rataan di dalam\n",
        "\n",
        "def mean(data):\n",
        "  return sum(data)/len(data)\n",
        "\n",
        "def sum_of_squares(data, overall_mean):\n",
        "  #cari rata-rata keseluruhan data\n",
        "  return sum((x - overall_mean)**2 for x in data)\n",
        "\n",
        "def anova(group1, group2, group3, group4, alpha = 0.05):\n",
        "  all_data = group1 + group2 + group3 + group4\n",
        "  overall_mean = mean(all_data)\n",
        "\n",
        "  # cari rata-rata kelompok\n",
        "  mean1 = mean(group1)\n",
        "  mean2 = mean(group2)\n",
        "  mean3 = mean(group3)\n",
        "  mean4 = mean(group4)\n",
        "\n",
        "  # menghitung total sum square\n",
        "  SST = sum_of_squares(all_data, overall_mean)\n",
        "\n",
        "  #menghitung total group sum square\n",
        "  SSW = sum_of_squares(group1, mean1) + sum_of_squares(group2, mean2) + sum_of_squares(group3, mean3) + sum_of_squares(group4, mean4)\n",
        "\n",
        "  #SSB Menghitung group sum square antara\n",
        "  n1 = len(group1)\n",
        "  n2 = len(group2)\n",
        "  n3 = len(group3)\n",
        "  n4 = len(group4)\n",
        "\n",
        "  # len * (rataan - rataan total)**2\n",
        "  SSB = n1*(mean1-overall_mean)**2 + n2*(mean2-overall_mean)**2 + n3*(mean3-overall_mean)**2 + n4*(mean4-overall_mean)**2\n",
        "\n",
        "  #derajat kebebasan\n",
        "  dk_between = 4 - 1 #jumlah kelompok - 1 atau k-1\n",
        "  dk_within = len(all_data) - 4 #total data - jumlah kelompok atau (N-k)\n",
        "\n",
        "  MSB = SSB/dk_between\n",
        "  MSW = SSW/dk_within\n",
        "\n",
        "  F = MSB/MSW\n",
        "\n",
        "  f_critical = 3.555\n",
        "\n",
        "  result = f\"Terdapat perbedaan signifikan di antara kelompok\" if F > f_critical else \"Tidak ada bukti yang cukup bahwa Terdapat perbedaan signifikan di antara kelompok\"\n",
        "  return F, dk_between, dk_within, f_critical, result\n",
        "\n",
        "group1 = [15, 18, 21, 19, 20, 22]\n",
        "group2 = [25, 28, 30, 27, 26, 29]\n",
        "group3 = [35, 38, 37, 36, 34, 39]\n",
        "group4 = [45, 48, 46, 47, 44, 49]\n",
        "\n",
        "F, dk_between, dk_within, f_critical,result = anova(group1, group2, group3, group4)\n",
        "print(f\"Nilai F: {F:.10f}\")\n",
        "print(f\"Derajat kebebasan antar kelompok: {dk_between}\")\n",
        "print(f\"Derajat kebebasan dalam kelompok: {dk_within}\")\n",
        "print(f\"Nilai F kritikal: {f_critical:.3f}\")\n",
        "print(f\"Kesimpulan: {result}\")"
      ]
    },
    {
      "cell_type": "markdown",
      "source": [
        "ouput:\n",
        "\n",
        "```\n",
        "Nilai F: 199.07999999999998\n",
        "Derajat kebebasan antar kelompok: 3\n",
        "Derajat kebebasan dalam kelompok: 20\n",
        "Nilai kritis F: 3.098\n",
        "Kesimpulan: Terdapat perbedaan signifikan di antara kelompok\n",
        "```"
      ],
      "metadata": {
        "id": "CDi6H7qt7XFk"
      }
    },
    {
      "cell_type": "markdown",
      "metadata": {
        "id": "QxbbQiCefyvb"
      },
      "source": [
        "\n",
        "\n",
        "---\n",
        "\n",
        "\n",
        "\n",
        "---\n",
        "\n"
      ]
    }
  ],
  "metadata": {
    "colab": {
      "provenance": []
    },
    "kernelspec": {
      "display_name": "Python 3",
      "language": "python",
      "name": "python3"
    },
    "language_info": {
      "codemirror_mode": {
        "name": "ipython",
        "version": 3
      },
      "file_extension": ".py",
      "mimetype": "text/x-python",
      "name": "python",
      "nbconvert_exporter": "python",
      "pygments_lexer": "ipython3",
      "version": "3.7.7"
    }
  },
  "nbformat": 4,
  "nbformat_minor": 0
}